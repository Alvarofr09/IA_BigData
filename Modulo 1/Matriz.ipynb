{
 "cells": [
  {
   "cell_type": "code",
   "execution_count": 3,
   "id": "4382aed4-20e5-437f-b2c6-4052515341fc",
   "metadata": {},
   "outputs": [],
   "source": [
    "matriz = [\n",
    "    [1, 1, 1, 3],\n",
    "    [2, 2, 2, 7],\n",
    "    [3, 3, 3, 9],\n",
    "    [4, 4, 4, 13]\n",
    "]"
   ]
  },
  {
   "cell_type": "code",
   "execution_count": 5,
   "id": "053b9649-fa17-44c1-94b6-959b9b1c182f",
   "metadata": {},
   "outputs": [
    {
     "data": {
      "text/plain": [
       "[[1, 1, 1, 3], [2, 2, 2, 7], [3, 3, 3, 9], [4, 4, 4, 13]]"
      ]
     },
     "execution_count": 5,
     "metadata": {},
     "output_type": "execute_result"
    }
   ],
   "source": [
    "matriz"
   ]
  },
  {
   "cell_type": "code",
   "execution_count": 15,
   "id": "de9b57ca-d63f-400c-b857-27d36e7b837a",
   "metadata": {},
   "outputs": [],
   "source": [
    "matriz[0][3] = sum(matriz[0][:-1])\n",
    "matriz[1][3] = sum(matriz[1][:-1])\n",
    "matriz[2][3] = sum(matriz[2][:-1])\n",
    "matriz[3][3] = sum(matriz[3][:-1])"
   ]
  },
  {
   "cell_type": "code",
   "execution_count": 17,
   "id": "c97e4805-7e93-4ca7-bd97-83904bcfe7cd",
   "metadata": {},
   "outputs": [
    {
     "data": {
      "text/plain": [
       "[[1, 1, 1, 3], [2, 2, 2, 6], [3, 3, 3, 9], [4, 4, 4, 12]]"
      ]
     },
     "execution_count": 17,
     "metadata": {},
     "output_type": "execute_result"
    }
   ],
   "source": [
    "matriz"
   ]
  },
  {
   "cell_type": "markdown",
   "id": "6942e7c2-4183-47ed-9b3f-72df5a1673c0",
   "metadata": {},
   "source": [
    "#### Ahora hay que hacer que el primer numero de cada lista sea la suma de los 3 ultimos numeros de cada lista"
   ]
  },
  {
   "cell_type": "code",
   "execution_count": 24,
   "id": "59887cc4-9b47-42b9-a71e-246d567532de",
   "metadata": {},
   "outputs": [],
   "source": [
    "matriz[0][0] = sum(matriz[0][1:])\n",
    "matriz[1][0] = sum(matriz[1][1:])\n",
    "matriz[2][0] = sum(matriz[2][1:])\n",
    "matriz[3][0] = sum(matriz[3][1:])"
   ]
  },
  {
   "cell_type": "code",
   "execution_count": 26,
   "id": "cb35b2f8-d5f9-41f7-8048-c01b085b9625",
   "metadata": {},
   "outputs": [
    {
     "data": {
      "text/plain": [
       "[[5, 1, 1, 3], [10, 2, 2, 6], [15, 3, 3, 9], [20, 4, 4, 12]]"
      ]
     },
     "execution_count": 26,
     "metadata": {},
     "output_type": "execute_result"
    }
   ],
   "source": [
    "matriz"
   ]
  },
  {
   "cell_type": "code",
   "execution_count": 48,
   "id": "205b5272-e1f0-480a-9db4-7b54015994ce",
   "metadata": {},
   "outputs": [],
   "source": [
    "matrizTri = [\n",
    "    [\n",
    "        [1, 1, 1, 3],\n",
    "        [2, 2, 2, 7],\n",
    "        [3, 3, 3, 9],\n",
    "        [4, 4, 4, 13],\n",
    "    ],\n",
    "    [\n",
    "        [1, 1, 1, 3],\n",
    "        [2, 2, 2, 7],\n",
    "        [3, 3, 3, 9],\n",
    "        [4, 4, 4, 13],\n",
    "    ],\n",
    "    [\n",
    "        [1, 1, 1, 3],\n",
    "        [2, 2, 2, 7],\n",
    "        [3, 3, 3, 9],\n",
    "        [4, 4, 4, 13],\n",
    "    ]\n",
    "]"
   ]
  },
  {
   "cell_type": "code",
   "execution_count": 44,
   "id": "507f85ba-cafc-4a85-a717-925c1a317e61",
   "metadata": {},
   "outputs": [],
   "source": [
    "matrizTri[0][0][3] = sum(matrizTri[0][0][:-1])\n",
    "matrizTri[0][1][3] = sum(matrizTri[0][1][:-1])\n",
    "matrizTri[0][2][3] = sum(matrizTri[0][2][:-1])\n",
    "matrizTri[0][3][3] = sum(matrizTri[0][3][:-1])\n",
    "\n",
    "matrizTri[1][0][3] = sum(matrizTri[1][0][:-1])\n",
    "matrizTri[1][1][3] = sum(matrizTri[1][1][:-1])\n",
    "matrizTri[1][2][3] = sum(matrizTri[1][2][:-1])\n",
    "matrizTri[1][3][3] = sum(matrizTri[1][3][:-1])\n",
    "\n",
    "matrizTri[2][0][3] = sum(matrizTri[2][0][:-1])\n",
    "matrizTri[2][1][3] = sum(matrizTri[2][1][:-1])\n",
    "matrizTri[2][2][3] = sum(matrizTri[2][2][:-1])\n",
    "matrizTri[2][3][3] = sum(matrizTri[2][3][:-1])"
   ]
  },
  {
   "cell_type": "code",
   "execution_count": 56,
   "id": "fec865ab-4ae0-4d77-9c81-5e710fa701fb",
   "metadata": {},
   "outputs": [],
   "source": [
    "for i in range(3):\n",
    "    for j in range(4):\n",
    "        matrizTri[i][j][3] = sum(matrizTri[i][j][:-1])\n",
    "        j += 1\n",
    "    i += 1"
   ]
  },
  {
   "cell_type": "code",
   "execution_count": 58,
   "id": "6d72bf0f-2c1f-4844-a7ba-54b02633240e",
   "metadata": {},
   "outputs": [
    {
     "data": {
      "text/plain": [
       "[[[1, 1, 1, 3], [2, 2, 2, 6], [3, 3, 3, 9], [4, 4, 4, 12]],\n",
       " [[1, 1, 1, 3], [2, 2, 2, 6], [3, 3, 3, 9], [4, 4, 4, 12]],\n",
       " [[1, 1, 1, 3], [2, 2, 2, 6], [3, 3, 3, 9], [4, 4, 4, 12]]]"
      ]
     },
     "execution_count": 58,
     "metadata": {},
     "output_type": "execute_result"
    }
   ],
   "source": [
    "matrizTri"
   ]
  },
  {
   "cell_type": "code",
   "execution_count": null,
   "id": "a2a2ba08-b6a4-4947-a35d-ae4ef6f753e8",
   "metadata": {},
   "outputs": [],
   "source": []
  }
 ],
 "metadata": {
  "kernelspec": {
   "display_name": "Python 3 (ipykernel)",
   "language": "python",
   "name": "python3"
  },
  "language_info": {
   "codemirror_mode": {
    "name": "ipython",
    "version": 3
   },
   "file_extension": ".py",
   "mimetype": "text/x-python",
   "name": "python",
   "nbconvert_exporter": "python",
   "pygments_lexer": "ipython3",
   "version": "3.12.4"
  }
 },
 "nbformat": 4,
 "nbformat_minor": 5
}
