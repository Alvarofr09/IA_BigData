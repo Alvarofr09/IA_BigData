{
 "cells": [
  {
   "cell_type": "markdown",
   "metadata": {},
   "source": [
    "#### 1) Realiza un programa que lea 2 numeros por teclado y determine los siguientes aspectos (es susficiente con mostrar True o False):\n",
    "\n",
    "- Si los dos numeros son iguales\n",
    "- Si los dos numeros son diferentes\n",
    "- Si el primero numero es mayor que el segundo\n",
    "- Si el segundo numero es mayor o igual que el primero"
   ]
  },
  {
   "cell_type": "code",
   "execution_count": null,
   "metadata": {},
   "outputs": [
    {
     "name": "stdout",
     "output_type": "stream",
     "text": [
      "Los numeros son iguales? False\n",
      "Los numeros son diferentes? True\n",
      "El primer numero es mayor que el segundo? False\n",
      "El segundo numero es mayor o igual que el primero? True\n"
     ]
    }
   ],
   "source": [
    "num1 = int(input(\"Dime un numero\"))\n",
    "num2 = int(input(\"Dime otro numero\"))\n",
    "\n",
    "print(\"Los numeros son iguales?\", num1 == num2)\n",
    "print(\"Los numeros son diferentes?\", num1 != num2)\n",
    "print(\"El primer numero es mayor que el segundo?\", num1 > num2)\n",
    "print(\"El segundo numero es mayor o igual que el primero?\", num2 >= num1)"
   ]
  },
  {
   "cell_type": "markdown",
   "metadata": {},
   "source": [
    "#### 2) Utilizando operados lógicos, determina si una cadena de texto introducida por el usuario tiene una longityud mayor o iguak a 3 y a su vez es menor que 10"
   ]
  },
  {
   "cell_type": "code",
   "execution_count": 7,
   "metadata": {},
   "outputs": [
    {
     "name": "stdout",
     "output_type": "stream",
     "text": [
      "La longitud de la cadena es mayor o igual que 3 pero menor que 10?: False\n"
     ]
    }
   ],
   "source": [
    "cadena = str(input(\"Escribe algo:\"))\n",
    "\n",
    "print(\"La longitud de la cadena es mayor o igual que 3 pero menor que 10?:\", len(cadena) >= 3 and len(cadena) < 10)"
   ]
  },
  {
   "cell_type": "markdown",
   "metadata": {},
   "source": [
    "#### 3) Realiza un programa que cumpla el siguiente algoritmo utilizando siempre que sea posible operadores en asignacion\n",
    "\n",
    "- Guarda en una variable numero_magico\n",
    "- el valor 12345679 (sin el 8)\n",
    "- Lee por pantalla otro numero_usuario\n",
    "- Especifica que sea entre 1 y 9 (Asegurate que es un numero)\n",
    "- Multiplica el numero_usuario por 9\n",
    "- Multiplica el numero magico por el numero_usuario\n",
    "- Finalmente muestra el valor final de numero_magico"
   ]
  },
  {
   "cell_type": "code",
   "execution_count": 13,
   "metadata": {},
   "outputs": [
    {
     "name": "stdout",
     "output_type": "stream",
     "text": [
      "El numero magico es:  222222222\n"
     ]
    }
   ],
   "source": [
    "numero_magico = 12345679\n",
    "numero_usuario = 0\n",
    "while numero_usuario < 1 or numero_usuario > 9:\n",
    "    numero_usuario = int(input(\"Escribe un numero del 1 al 9\"))\n",
    "numero_usuario *= 9\n",
    "numero_magico *= numero_usuario\n",
    "print(\"El numero magico es: \", numero_magico)"
   ]
  }
 ],
 "metadata": {
  "kernelspec": {
   "display_name": "Python 3",
   "language": "python",
   "name": "python3"
  },
  "language_info": {
   "codemirror_mode": {
    "name": "ipython",
    "version": 3
   },
   "file_extension": ".py",
   "mimetype": "text/x-python",
   "name": "python",
   "nbconvert_exporter": "python",
   "pygments_lexer": "ipython3",
   "version": "3.12.9"
  }
 },
 "nbformat": 4,
 "nbformat_minor": 2
}
