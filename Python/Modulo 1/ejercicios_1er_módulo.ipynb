{
 "cells": [
  {
   "cell_type": "markdown",
   "id": "8d1b1e27-b07a-49aa-91a2-734476600318",
   "metadata": {},
   "source": [
    "1) Identifica el __tipo__ de datos (int, float, etc)\n",
    "   de los siguientes valores usando __type()__\n",
    "\n",
    "   \"Hola Mundo\"\n",
    "   [1, 2, 100]\n",
    "   -25\n",
    "   1.165\n",
    "   [\"Hola\", \"Buenos días\"]\n",
    "   ' '"
   ]
  },
  {
   "cell_type": "code",
   "execution_count": 1,
   "id": "e75a090a-8276-4e40-bd7e-9aa8d9ea5cd7",
   "metadata": {},
   "outputs": [
    {
     "data": {
      "text/plain": [
       "str"
      ]
     },
     "execution_count": 1,
     "metadata": {},
     "output_type": "execute_result"
    }
   ],
   "source": [
    "type(\"Hola Mundo\")"
   ]
  },
  {
   "cell_type": "code",
   "execution_count": 1,
   "id": "9831def2-b2b0-4927-a3a9-a2e45a122eb2",
   "metadata": {},
   "outputs": [
    {
     "data": {
      "text/plain": [
       "list"
      ]
     },
     "execution_count": 1,
     "metadata": {},
     "output_type": "execute_result"
    }
   ],
   "source": [
    "type([1, 2, 100])"
   ]
  },
  {
   "cell_type": "code",
   "execution_count": 2,
   "id": "65cd0254-5d98-456c-a248-1b35a998e055",
   "metadata": {},
   "outputs": [
    {
     "data": {
      "text/plain": [
       "int"
      ]
     },
     "execution_count": 2,
     "metadata": {},
     "output_type": "execute_result"
    }
   ],
   "source": [
    "type(-25)"
   ]
  },
  {
   "cell_type": "code",
   "execution_count": 3,
   "id": "b1ddc0f9-0184-468a-8e99-f50870dab16e",
   "metadata": {},
   "outputs": [
    {
     "data": {
      "text/plain": [
       "float"
      ]
     },
     "execution_count": 3,
     "metadata": {},
     "output_type": "execute_result"
    }
   ],
   "source": [
    "type(1.165)"
   ]
  },
  {
   "cell_type": "code",
   "execution_count": 4,
   "id": "b98b4841-0b81-4458-b47e-f4a3531dce28",
   "metadata": {},
   "outputs": [
    {
     "data": {
      "text/plain": [
       "list"
      ]
     },
     "execution_count": 4,
     "metadata": {},
     "output_type": "execute_result"
    }
   ],
   "source": [
    "type([\"Hola\", \"Buenos días\"])"
   ]
  },
  {
   "cell_type": "code",
   "execution_count": 5,
   "id": "3aea2b8e-b66c-4dde-b331-9af80140fb81",
   "metadata": {},
   "outputs": [
    {
     "data": {
      "text/plain": [
       "str"
      ]
     },
     "execution_count": 5,
     "metadata": {},
     "output_type": "execute_result"
    }
   ],
   "source": [
    "type(' ')"
   ]
  },
  {
   "cell_type": "markdown",
   "id": "64c2f511-9f3b-4439-b17a-7928d2a96c37",
   "metadata": {},
   "source": [
    "2) Indentifica mentalmente el resultado\n",
    "   que aparecerá por pantalla"
   ]
  },
  {
   "cell_type": "code",
   "execution_count": 15,
   "id": "e4a7e865-d6d8-4e76-bdf9-eae55c97bb18",
   "metadata": {},
   "outputs": [
    {
     "name": "stdout",
     "output_type": "stream",
     "text": [
      "50\n",
      "15\n",
      "Hola Mundo\n",
      "Hola Hola \n",
      "o\n",
      "[1, 2, 3, 1, 2, 3]\n"
     ]
    }
   ],
   "source": [
    "# Zona de declaración de variables\n",
    "a = 10\n",
    "b = -5\n",
    "c = \"Hola \"\n",
    "d = [1, 2, 3]\n",
    "\n",
    "print(a * 5)\n",
    "print(a - b)\n",
    "print(c + \"Mundo\") # Principio de la IA Generativa\n",
    "print(c * 2)\n",
    "print(c[1])\n",
    "print(d + d)  # Bag of words"
   ]
  },
  {
   "cell_type": "markdown",
   "id": "6077cc2a-4a6b-4a00-a095-bc0391d7b967",
   "metadata": {},
   "source": [
    "3) El siguiente código pretende realizar\n",
    "una media entre tres números, pero no funciona\n",
    "correctamente. Indentifica el problema.\n",
    "\n",
    "num_1 = 9\n",
    "num_2 = 3\n",
    "num_3 = 6\n",
    "\n",
    "media = (num_1 + num_2 + num_3) / 3\n",
    "print(\"La nota media es \", media)"
   ]
  },
  {
   "cell_type": "markdown",
   "id": "e3cb0f16-890a-4b8c-b1d7-a7ee9b89e553",
   "metadata": {},
   "source": [
    "4) A partir de las notas anteriores:\n",
    "   -La primera nota (num_1) vale un 15% del total\n",
    "   -La segunda nota (num_2) vale un 35% del total\n",
    "   -La tercera nota (num_3) vale un 50% del total\n",
    "\n",
    "Calcula la nota media final"
   ]
  },
  {
   "cell_type": "code",
   "execution_count": 10,
   "id": "863a1f95-d80c-4b71-a973-75cd8a50f6e6",
   "metadata": {},
   "outputs": [],
   "source": [
    "num_1 = 9\n",
    "num_2 = 3\n",
    "num_3 = 6"
   ]
  },
  {
   "cell_type": "code",
   "execution_count": 11,
   "id": "ab7c6ebb-53fe-440a-aa5d-e3d18e99450a",
   "metadata": {},
   "outputs": [],
   "source": [
    "media = num_1 * 0.15 + num_2 * 0.35 + num_3 * 0.5"
   ]
  },
  {
   "cell_type": "code",
   "execution_count": 14,
   "id": "a1369177-8379-4a31-9543-a1af24faf8cb",
   "metadata": {},
   "outputs": [
    {
     "name": "stdout",
     "output_type": "stream",
     "text": [
      "5.3999999999999995\n"
     ]
    }
   ],
   "source": [
    "print(media)"
   ]
  },
  {
   "cell_type": "markdown",
   "id": "7ec5f439-8a8e-49a2-8274-f143eb95a5fa",
   "metadata": {},
   "source": [
    "5) La siguiente matriz (listas anidadas) debe cumplir\n",
    "   una condición. En cada fila, el cuarto elemento\n",
    "   debe ser siempre el resultado de sumar los tres\n",
    "   primeros. Debes modificar las sumas incorrectas\n",
    "   utilizando la técnica del slicing y sum()"
   ]
  },
  {
   "cell_type": "code",
   "execution_count": 1,
   "id": "fe7fccb8-e24e-4e38-9ebd-e507fa43acee",
   "metadata": {},
   "outputs": [],
   "source": [
    "matriz = [\n",
    "    [1, 1, 1, 3],\n",
    "    [2, 2, 2, 7],\n",
    "    [3, 3, 3, 9],\n",
    "    [4, 4, 4, 13]\n",
    "]"
   ]
  },
  {
   "cell_type": "code",
   "execution_count": 2,
   "id": "bb0e50c8-9ae3-43bc-91ff-4b2d2e2d06b2",
   "metadata": {},
   "outputs": [
    {
     "data": {
      "text/plain": [
       "[[1, 1, 1, 3], [2, 2, 2, 7], [3, 3, 3, 9], [4, 4, 4, 13]]"
      ]
     },
     "execution_count": 2,
     "metadata": {},
     "output_type": "execute_result"
    }
   ],
   "source": [
    "matriz"
   ]
  },
  {
   "cell_type": "code",
   "execution_count": 3,
   "id": "cac12890-a5be-4d0c-9987-b8244a16918f",
   "metadata": {},
   "outputs": [
    {
     "data": {
      "text/plain": [
       "int"
      ]
     },
     "execution_count": 3,
     "metadata": {},
     "output_type": "execute_result"
    }
   ],
   "source": [
    "type(matriz[0][0])"
   ]
  },
  {
   "cell_type": "code",
   "execution_count": 15,
   "id": "23299081-b1f6-4e95-8848-16c8ac45783f",
   "metadata": {},
   "outputs": [],
   "source": [
    "matriz[1][3] = 6 #Cambio manual"
   ]
  },
  {
   "cell_type": "code",
   "execution_count": 16,
   "id": "4f827e6a-80bd-4b10-b87e-66bfb68f4828",
   "metadata": {},
   "outputs": [],
   "source": [
    "matriz[3][-1] = sum(matriz[3][:-1])\n",
    "# Solución con slicing"
   ]
  },
  {
   "cell_type": "code",
   "execution_count": 7,
   "id": "4d368c40-a837-459b-8ff6-20e44ca96e1d",
   "metadata": {},
   "outputs": [
    {
     "data": {
      "text/plain": [
       "[[1, 1, 1, 3], [2, 2, 2, 6], [3, 3, 3, 9], [4, 4, 4, 12]]"
      ]
     },
     "execution_count": 7,
     "metadata": {},
     "output_type": "execute_result"
    }
   ],
   "source": [
    "matriz"
   ]
  },
  {
   "cell_type": "code",
   "execution_count": 18,
   "id": "a2a5ade8-527b-4c40-9488-fd4c2e4fc6ea",
   "metadata": {},
   "outputs": [],
   "source": [
    "# Vamos a hacer lo mismo, pero\n",
    "# el primer valor de cada sublista\n",
    "# debe ser la suma de los tres siguientes"
   ]
  },
  {
   "cell_type": "code",
   "execution_count": 19,
   "id": "5d19f587-5a49-42ba-916e-66cb75e5703a",
   "metadata": {},
   "outputs": [],
   "source": [
    "matriz [0][0] = sum(matriz[0][1:])  # Resultado 1ª sublista\n",
    "matriz [1][0] = sum(matriz[1][1:])  # Resultado 2ª sublista\n",
    "matriz [2][0] = sum(matriz[2][1:])  # Resultado 3ª sublista\n",
    "matriz [3][0] = sum(matriz[3][1:])  # Resultado 4ª sublista"
   ]
  },
  {
   "cell_type": "code",
   "execution_count": 20,
   "id": "c63c629d-9029-4380-84ff-9a6af23d0a97",
   "metadata": {},
   "outputs": [
    {
     "data": {
      "text/plain": [
       "[[5, 1, 1, 3], [10, 2, 2, 6], [15, 3, 3, 9], [20, 4, 4, 12]]"
      ]
     },
     "execution_count": 20,
     "metadata": {},
     "output_type": "execute_result"
    }
   ],
   "source": [
    "matriz"
   ]
  },
  {
   "cell_type": "markdown",
   "id": "e31fab25",
   "metadata": {},
   "source": [
    "### Vamos a hacer lo mismo pero con una Matriz Tridimensional"
   ]
  },
  {
   "cell_type": "code",
   "execution_count": null,
   "id": "885aa5d6",
   "metadata": {},
   "outputs": [],
   "source": [
    "matrizTri = [\n",
    "    [\n",
    "        [1, 1, 1, 3],\n",
    "        [2, 2, 2, 7],\n",
    "        [3, 3, 3, 9],\n",
    "        [4, 4, 4, 13],\n",
    "    ],\n",
    "    [\n",
    "        [1, 1, 1, 3],\n",
    "        [2, 2, 2, 7],\n",
    "        [3, 3, 3, 9],\n",
    "        [4, 4, 4, 13],\n",
    "    ],\n",
    "    [\n",
    "        [1, 1, 1, 3],\n",
    "        [2, 2, 2, 7],\n",
    "        [3, 3, 3, 9],\n",
    "        [4, 4, 4, 13],\n",
    "    ]\n",
    "]"
   ]
  },
  {
   "cell_type": "code",
   "execution_count": null,
   "id": "95b2eeef",
   "metadata": {},
   "outputs": [],
   "source": [
    "#Aqui lo vamos a hacer con el slicing y sum\n",
    "matrizTri[0][0][3] = sum(matrizTri[0][0][:-1])\n",
    "matrizTri[0][1][3] = sum(matrizTri[0][1][:-1])\n",
    "matrizTri[0][2][3] = sum(matrizTri[0][2][:-1])\n",
    "matrizTri[0][3][3] = sum(matrizTri[0][3][:-1])\n",
    "\n",
    "matrizTri[1][0][3] = sum(matrizTri[1][0][:-1])\n",
    "matrizTri[1][1][3] = sum(matrizTri[1][1][:-1])\n",
    "matrizTri[1][2][3] = sum(matrizTri[1][2][:-1])\n",
    "matrizTri[1][3][3] = sum(matrizTri[1][3][:-1])\n",
    "\n",
    "matrizTri[2][0][3] = sum(matrizTri[2][0][:-1])\n",
    "matrizTri[2][1][3] = sum(matrizTri[2][1][:-1])\n",
    "matrizTri[2][2][3] = sum(matrizTri[2][2][:-1])\n",
    "matrizTri[2][3][3] = sum(matrizTri[2][3][:-1])"
   ]
  },
  {
   "cell_type": "code",
   "execution_count": null,
   "id": "c027ab28",
   "metadata": {},
   "outputs": [],
   "source": [
    "#Aqui lo vamos a hacer con for para aprender\n",
    "for i in range(3):\n",
    "    for j in range(4):\n",
    "        matrizTri[i][j][3] = sum(matrizTri[i][j][:-1])\n",
    "        j += 1\n",
    "    i += 1"
   ]
  },
  {
   "cell_type": "code",
   "execution_count": null,
   "id": "240a60ac",
   "metadata": {},
   "outputs": [],
   "source": [
    "matrizTri"
   ]
  }
 ],
 "metadata": {
  "kernelspec": {
   "display_name": "Python 3 (ipykernel)",
   "language": "python",
   "name": "python3"
  },
  "language_info": {
   "codemirror_mode": {
    "name": "ipython",
    "version": 3
   },
   "file_extension": ".py",
   "mimetype": "text/x-python",
   "name": "python",
   "nbconvert_exporter": "python",
   "pygments_lexer": "ipython3",
   "version": "3.12.4"
  }
 },
 "nbformat": 4,
 "nbformat_minor": 5
}
