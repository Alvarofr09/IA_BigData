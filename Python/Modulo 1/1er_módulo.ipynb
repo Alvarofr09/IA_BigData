{
 "cells": [
  {
   "cell_type": "markdown",
   "id": "c8ef02de-e83c-48f4-b2df-61670dbb9e48",
   "metadata": {},
   "source": [
    "# Vamos a trabajar con números\n",
    "## Utilizamos calculadora"
   ]
  },
  {
   "cell_type": "code",
   "execution_count": 13,
   "id": "502c54f6-567f-48cf-980b-336dcddc5115",
   "metadata": {},
   "outputs": [
    {
     "data": {
      "text/plain": [
       "5"
      ]
     },
     "execution_count": 13,
     "metadata": {},
     "output_type": "execute_result"
    }
   ],
   "source": [
    "3+2"
   ]
  },
  {
   "cell_type": "code",
   "execution_count": 14,
   "id": "ed391ee2-1237-4ab2-888d-6f76633f10ba",
   "metadata": {},
   "outputs": [
    {
     "data": {
      "text/plain": [
       "1"
      ]
     },
     "execution_count": 14,
     "metadata": {},
     "output_type": "execute_result"
    }
   ],
   "source": [
    "#Módulo\n",
    "3%2"
   ]
  },
  {
   "cell_type": "code",
   "execution_count": 15,
   "id": "5b7bf7ad-6f65-44c0-b0f9-77155fd90428",
   "metadata": {},
   "outputs": [
    {
     "data": {
      "text/plain": [
       "9"
      ]
     },
     "execution_count": 15,
     "metadata": {},
     "output_type": "execute_result"
    }
   ],
   "source": [
    "3**2"
   ]
  },
  {
   "cell_type": "code",
   "execution_count": 16,
   "id": "bf2342c4-c1e8-4fd3-b6cb-a3a2d6cedae8",
   "metadata": {},
   "outputs": [
    {
     "data": {
      "text/plain": [
       "2.0"
      ]
     },
     "execution_count": 16,
     "metadata": {},
     "output_type": "execute_result"
    }
   ],
   "source": [
    "#División\n",
    "4/2"
   ]
  },
  {
   "cell_type": "code",
   "execution_count": 17,
   "id": "096937fc-9433-464a-9c22-1a613e1dd3a4",
   "metadata": {},
   "outputs": [
    {
     "data": {
      "text/plain": [
       "625"
      ]
     },
     "execution_count": 17,
     "metadata": {},
     "output_type": "execute_result"
    }
   ],
   "source": [
    "#Potencia\n",
    "5**4"
   ]
  },
  {
   "cell_type": "code",
   "execution_count": 18,
   "id": "aa3c7d1e-a489-45ea-a68b-fe6cd92fbb83",
   "metadata": {},
   "outputs": [
    {
     "data": {
      "text/plain": [
       "-3"
      ]
     },
     "execution_count": 18,
     "metadata": {},
     "output_type": "execute_result"
    }
   ],
   "source": [
    "3-2*5+4"
   ]
  },
  {
   "cell_type": "markdown",
   "id": "dd6eb94b-d6df-412c-90bb-af4e8efdb8dd",
   "metadata": {},
   "source": [
    "# Variables"
   ]
  },
  {
   "cell_type": "code",
   "execution_count": 19,
   "id": "643f9666-58a7-48ab-aa37-38fd5542920f",
   "metadata": {},
   "outputs": [
    {
     "data": {
      "text/plain": [
       "3"
      ]
     },
     "execution_count": 19,
     "metadata": {},
     "output_type": "execute_result"
    }
   ],
   "source": [
    "#Asignar valor a una variable (asignación)\n",
    "n = 3\n",
    "n"
   ]
  },
  {
   "cell_type": "code",
   "execution_count": 20,
   "id": "699e4131-9e8a-48ea-85a5-2e5f8070f167",
   "metadata": {},
   "outputs": [
    {
     "data": {
      "text/plain": [
       "int"
      ]
     },
     "execution_count": 20,
     "metadata": {},
     "output_type": "execute_result"
    }
   ],
   "source": [
    "type(n)"
   ]
  },
  {
   "cell_type": "code",
   "execution_count": 21,
   "id": "4427a849-4654-4981-9334-9717e7b303ca",
   "metadata": {},
   "outputs": [
    {
     "data": {
      "text/plain": [
       "6"
      ]
     },
     "execution_count": 21,
     "metadata": {},
     "output_type": "execute_result"
    }
   ],
   "source": [
    "n+3"
   ]
  },
  {
   "cell_type": "code",
   "execution_count": 22,
   "id": "445601a6-73cc-4824-a156-08f5382d14be",
   "metadata": {},
   "outputs": [
    {
     "data": {
      "text/plain": [
       "9"
      ]
     },
     "execution_count": 22,
     "metadata": {},
     "output_type": "execute_result"
    }
   ],
   "source": [
    "n*n"
   ]
  },
  {
   "cell_type": "code",
   "execution_count": 23,
   "id": "487da77f-6a4d-4795-99cf-1818dd773625",
   "metadata": {},
   "outputs": [],
   "source": [
    "m=12"
   ]
  },
  {
   "cell_type": "code",
   "execution_count": 24,
   "id": "ba047963-60ea-4c19-943d-42f4136db19d",
   "metadata": {},
   "outputs": [
    {
     "data": {
      "text/plain": [
       "15"
      ]
     },
     "execution_count": 24,
     "metadata": {},
     "output_type": "execute_result"
    }
   ],
   "source": [
    "m+n"
   ]
  },
  {
   "cell_type": "code",
   "execution_count": 25,
   "id": "a63ae62b-8766-41b9-b867-f3a973e8f7b4",
   "metadata": {},
   "outputs": [],
   "source": [
    "z=m+n"
   ]
  },
  {
   "cell_type": "code",
   "execution_count": 26,
   "id": "18a1f48d-705a-4877-9c7c-24d702b04b6e",
   "metadata": {},
   "outputs": [
    {
     "data": {
      "text/plain": [
       "15"
      ]
     },
     "execution_count": 26,
     "metadata": {},
     "output_type": "execute_result"
    }
   ],
   "source": [
    "z"
   ]
  },
  {
   "cell_type": "code",
   "execution_count": 27,
   "id": "4095d93a-4c91-4dea-b962-61c21a2c3b44",
   "metadata": {},
   "outputs": [
    {
     "data": {
      "text/plain": [
       "7.0"
      ]
     },
     "execution_count": 27,
     "metadata": {},
     "output_type": "execute_result"
    }
   ],
   "source": [
    "#Reutilización\n",
    "nota_1 = 6\n",
    "nota_2 = 8\n",
    "nota_media = (nota_1 + nota_2) / 2\n",
    "nota_media"
   ]
  },
  {
   "cell_type": "markdown",
   "id": "28e449f3-71b4-4e90-b483-0f55d5e5e429",
   "metadata": {},
   "source": [
    "# Vamos a trabajar con texto\n",
    "## (Cadena de caracteres)"
   ]
  },
  {
   "cell_type": "code",
   "execution_count": 28,
   "id": "ed2948a9-c05d-4620-83cc-4b317cfd426f",
   "metadata": {},
   "outputs": [
    {
     "data": {
      "text/plain": [
       "'Hola mundo'"
      ]
     },
     "execution_count": 28,
     "metadata": {},
     "output_type": "execute_result"
    }
   ],
   "source": [
    "\"Hola mundo\""
   ]
  },
  {
   "cell_type": "code",
   "execution_count": 29,
   "id": "ef60dcd1-78a6-44ed-b918-a0f265dcd5f4",
   "metadata": {},
   "outputs": [
    {
     "data": {
      "text/plain": [
       "'Hola mundo'"
      ]
     },
     "execution_count": 29,
     "metadata": {},
     "output_type": "execute_result"
    }
   ],
   "source": [
    "'Hola mundo'"
   ]
  },
  {
   "cell_type": "code",
   "execution_count": 30,
   "id": "1f16292f-274e-4079-810f-fa119e4b4c30",
   "metadata": {},
   "outputs": [
    {
     "data": {
      "text/plain": [
       "'En este texto la palabra \"Quijote\" va entre comillas'"
      ]
     },
     "execution_count": 30,
     "metadata": {},
     "output_type": "execute_result"
    }
   ],
   "source": [
    "'En este texto la palabra \"Quijote\" va entre comillas'"
   ]
  },
  {
   "cell_type": "code",
   "execution_count": 31,
   "id": "b8ee4eeb-4c97-4457-9025-a74fc591883d",
   "metadata": {},
   "outputs": [
    {
     "data": {
      "text/plain": [
       "\"En este texto la palabra 'Quijote' va entre comillas simples\""
      ]
     },
     "execution_count": 31,
     "metadata": {},
     "output_type": "execute_result"
    }
   ],
   "source": [
    "\"En este texto la palabra 'Quijote' va entre comillas simples\""
   ]
  },
  {
   "cell_type": "code",
   "execution_count": 32,
   "id": "6cd51cb1-d658-4516-9cf9-7c983e7091ff",
   "metadata": {},
   "outputs": [
    {
     "name": "stdout",
     "output_type": "stream",
     "text": [
      "Hola mundo\n"
     ]
    }
   ],
   "source": [
    "#Función Print\n",
    "print(\"Hola mundo\")"
   ]
  },
  {
   "cell_type": "code",
   "execution_count": 33,
   "id": "75ac90bf-8976-400b-8838-60093f12e888",
   "metadata": {},
   "outputs": [],
   "source": [
    "cadena = \"Hola mundo.\"  #Variable de texto"
   ]
  },
  {
   "cell_type": "code",
   "execution_count": 34,
   "id": "e445414e-4b0c-442a-bc31-192ec93673fd",
   "metadata": {},
   "outputs": [
    {
     "data": {
      "text/plain": [
       "'Hola mundo.'"
      ]
     },
     "execution_count": 34,
     "metadata": {},
     "output_type": "execute_result"
    }
   ],
   "source": [
    "cadena"
   ]
  },
  {
   "cell_type": "code",
   "execution_count": 35,
   "id": "9b90ce13-1557-4ea8-aaf8-3baa29cfe48a",
   "metadata": {},
   "outputs": [
    {
     "name": "stdout",
     "output_type": "stream",
     "text": [
      "Hola mundo.\n"
     ]
    }
   ],
   "source": [
    "print(cadena)"
   ]
  },
  {
   "cell_type": "code",
   "execution_count": 36,
   "id": "5c4488c4-dc3e-4241-8e5d-043ab4cd38ce",
   "metadata": {},
   "outputs": [],
   "source": [
    "cadena2 = \" Hola, ¿cómo estás?\""
   ]
  },
  {
   "cell_type": "code",
   "execution_count": 37,
   "id": "a569029b-41f3-4e4c-a6bd-622b552a4985",
   "metadata": {},
   "outputs": [
    {
     "data": {
      "text/plain": [
       "'Hola mundo. Hola, ¿cómo estás?'"
      ]
     },
     "execution_count": 37,
     "metadata": {},
     "output_type": "execute_result"
    }
   ],
   "source": [
    "cadena + cadena2"
   ]
  },
  {
   "cell_type": "markdown",
   "id": "4e0bb22a-c066-4103-8110-922dd5ac1a36",
   "metadata": {},
   "source": [
    "## LAS LISTAS\n",
    "### Tipo de dato \"compuesto\" ---> ítems"
   ]
  },
  {
   "cell_type": "code",
   "execution_count": 2,
   "id": "5454d187-7edd-4567-a224-73e2ea3a1b5a",
   "metadata": {},
   "outputs": [],
   "source": [
    "números = [1, 2, 3, 4]"
   ]
  },
  {
   "cell_type": "code",
   "execution_count": 3,
   "id": "8a41296a-7a2f-4599-9348-7d8821ef5114",
   "metadata": {},
   "outputs": [
    {
     "data": {
      "text/plain": [
       "list"
      ]
     },
     "execution_count": 3,
     "metadata": {},
     "output_type": "execute_result"
    }
   ],
   "source": [
    "type(números)\n",
    "#type sirve para saber el tipo de datos de una variable"
   ]
  },
  {
   "cell_type": "code",
   "execution_count": 4,
   "id": "9571af60-733e-4bc1-8788-a1c1b6dca7bb",
   "metadata": {},
   "outputs": [],
   "source": [
    "datos = [4, \"Un resultado\", -15, 3.1416, \"Otro resultado\"]"
   ]
  },
  {
   "cell_type": "code",
   "execution_count": 5,
   "id": "e9819882-c9e0-48e2-bbdb-6c81056b1abf",
   "metadata": {},
   "outputs": [
    {
     "data": {
      "text/plain": [
       "list"
      ]
     },
     "execution_count": 5,
     "metadata": {},
     "output_type": "execute_result"
    }
   ],
   "source": [
    "type(datos)"
   ]
  },
  {
   "cell_type": "code",
   "execution_count": 6,
   "id": "83cc38ff-3d91-474f-ab23-4a6bf54797c2",
   "metadata": {},
   "outputs": [
    {
     "name": "stdout",
     "output_type": "stream",
     "text": [
      "[4, 'Un resultado', -15, 3.1416, 'Otro resultado']\n"
     ]
    }
   ],
   "source": [
    "print(datos)"
   ]
  },
  {
   "cell_type": "markdown",
   "id": "15a29ba6-5802-4252-b389-888a1af31b98",
   "metadata": {},
   "source": [
    "## Indices y slicing\n",
    "### Es parecido a las cadenas de caracteres"
   ]
  },
  {
   "cell_type": "code",
   "execution_count": 7,
   "id": "3c1f8cd4-a5a2-4d4a-a97b-133bdb422913",
   "metadata": {},
   "outputs": [
    {
     "data": {
      "text/plain": [
       "4"
      ]
     },
     "execution_count": 7,
     "metadata": {},
     "output_type": "execute_result"
    }
   ],
   "source": [
    "datos[0]"
   ]
  },
  {
   "cell_type": "code",
   "execution_count": 8,
   "id": "907ba94d-aad2-45d8-a6ab-a52bd16235d0",
   "metadata": {},
   "outputs": [
    {
     "data": {
      "text/plain": [
       "'Otro resultado'"
      ]
     },
     "execution_count": 8,
     "metadata": {},
     "output_type": "execute_result"
    }
   ],
   "source": [
    "#Sacamos el último elemento\n",
    "datos[-1]"
   ]
  },
  {
   "cell_type": "code",
   "execution_count": 9,
   "id": "255bf4fc-a21a-499e-b6a2-76a00b8a0785",
   "metadata": {},
   "outputs": [
    {
     "data": {
      "text/plain": [
       "[3.1416, 'Otro resultado']"
      ]
     },
     "execution_count": 9,
     "metadata": {},
     "output_type": "execute_result"
    }
   ],
   "source": [
    "#Sacamos los dos últimos elementos\n",
    "datos[-2:]"
   ]
  },
  {
   "cell_type": "code",
   "execution_count": 10,
   "id": "dadc3812-08c5-4936-9b0a-5b7f2868bfee",
   "metadata": {},
   "outputs": [
    {
     "data": {
      "text/plain": [
       "[4, 'Un resultado']"
      ]
     },
     "execution_count": 10,
     "metadata": {},
     "output_type": "execute_result"
    }
   ],
   "source": [
    "#Sacamos los dos primeros elementos\n",
    "datos[:2]"
   ]
  },
  {
   "cell_type": "code",
   "execution_count": 11,
   "id": "485259e2-cbde-49d0-8511-8ad8baaa7067",
   "metadata": {},
   "outputs": [
    {
     "data": {
      "text/plain": [
       "[1, 2, 3, 4, 5, 6, 7, 8]"
      ]
     },
     "execution_count": 11,
     "metadata": {},
     "output_type": "execute_result"
    }
   ],
   "source": [
    "# Suma de listas\n",
    "números + [5, 6, 7, 8]"
   ]
  },
  {
   "cell_type": "code",
   "execution_count": 12,
   "id": "b517d936-3f56-4af5-b265-71a619d2eb6f",
   "metadata": {},
   "outputs": [
    {
     "data": {
      "text/plain": [
       "[1, 2, 3, 4]"
      ]
     },
     "execution_count": 12,
     "metadata": {},
     "output_type": "execute_result"
    }
   ],
   "source": [
    "números"
   ]
  },
  {
   "cell_type": "code",
   "execution_count": 13,
   "id": "030ecf0d-e6bf-4b18-ab17-75cc27844504",
   "metadata": {},
   "outputs": [
    {
     "data": {
      "text/plain": [
       "[1, 2, 3, 4, 5, 6, 7, 8]"
      ]
     },
     "execution_count": 13,
     "metadata": {},
     "output_type": "execute_result"
    }
   ],
   "source": [
    "números2=números+[5, 6, 7, 8]\n",
    "números2"
   ]
  },
  {
   "cell_type": "markdown",
   "id": "02177530-6f00-4caf-afd0-d1d31bf64113",
   "metadata": {},
   "source": [
    "### Son modificables"
   ]
  },
  {
   "cell_type": "code",
   "execution_count": 48,
   "id": "774461c5-e949-4dcf-9267-461967d570d9",
   "metadata": {},
   "outputs": [],
   "source": [
    "pares = [0, 2, 4, 6, 8, 10]"
   ]
  },
  {
   "cell_type": "code",
   "execution_count": 49,
   "id": "1e0e6ab0-1068-4df5-b7f9-224c5a9bb159",
   "metadata": {},
   "outputs": [
    {
     "data": {
      "text/plain": [
       "6"
      ]
     },
     "execution_count": 49,
     "metadata": {},
     "output_type": "execute_result"
    }
   ],
   "source": [
    "pares [3]"
   ]
  },
  {
   "cell_type": "code",
   "execution_count": 50,
   "id": "20d55e00-4f9e-40c7-adbd-6487244f997f",
   "metadata": {},
   "outputs": [],
   "source": [
    "# Vamos añadir un elemento"
   ]
  },
  {
   "cell_type": "code",
   "execution_count": 51,
   "id": "4e0f6a04-a327-46d8-81e9-77d654d18058",
   "metadata": {},
   "outputs": [],
   "source": [
    "pares.append(12)"
   ]
  },
  {
   "cell_type": "code",
   "execution_count": 52,
   "id": "51699d95-72ca-4de5-bb95-c3a522c0c09c",
   "metadata": {},
   "outputs": [
    {
     "data": {
      "text/plain": [
       "[0, 2, 4, 6, 8, 10, 12]"
      ]
     },
     "execution_count": 52,
     "metadata": {},
     "output_type": "execute_result"
    }
   ],
   "source": [
    "pares"
   ]
  },
  {
   "cell_type": "code",
   "execution_count": 53,
   "id": "9bff112d-450d-464b-b4bd-f4c76d148e34",
   "metadata": {},
   "outputs": [],
   "source": [
    "pares.append(7*2)"
   ]
  },
  {
   "cell_type": "code",
   "execution_count": 54,
   "id": "8826cb3e-0c84-43fb-ab39-5a48fcc2138c",
   "metadata": {},
   "outputs": [
    {
     "data": {
      "text/plain": [
       "[0, 2, 4, 6, 8, 10, 12, 14]"
      ]
     },
     "execution_count": 54,
     "metadata": {},
     "output_type": "execute_result"
    }
   ],
   "source": [
    "pares"
   ]
  },
  {
   "cell_type": "code",
   "execution_count": 55,
   "id": "bbb54d51-0e01-47b9-be32-806a13e13272",
   "metadata": {},
   "outputs": [],
   "source": [
    "letras = ['a', 'b', 'c', 'd', 'e', 'f']"
   ]
  },
  {
   "cell_type": "code",
   "execution_count": 56,
   "id": "9020287a-a8d5-4b2f-a708-35a452e8c493",
   "metadata": {},
   "outputs": [
    {
     "data": {
      "text/plain": [
       "['a', 'b', 'c']"
      ]
     },
     "execution_count": 56,
     "metadata": {},
     "output_type": "execute_result"
    }
   ],
   "source": [
    "letras[:3]"
   ]
  },
  {
   "cell_type": "code",
   "execution_count": 57,
   "id": "2a3d2a1b-60da-4384-a96f-d785de8857f5",
   "metadata": {},
   "outputs": [
    {
     "data": {
      "text/plain": [
       "['b', 'c', 'd', 'e', 'f']"
      ]
     },
     "execution_count": 57,
     "metadata": {},
     "output_type": "execute_result"
    }
   ],
   "source": [
    "letras[1:]"
   ]
  },
  {
   "cell_type": "code",
   "execution_count": 58,
   "id": "eb3a0296-b635-4e5c-850a-e4036c1d2c8b",
   "metadata": {},
   "outputs": [],
   "source": [
    "#Ahora alteramos la info\n",
    "letras[:3] = ['La Pinta', 'La Niña', 'La Santamaría']"
   ]
  },
  {
   "cell_type": "code",
   "execution_count": 59,
   "id": "a49c6dd3-4599-4e8d-bbdf-489f2dd24d09",
   "metadata": {},
   "outputs": [
    {
     "data": {
      "text/plain": [
       "['La Pinta', 'La Niña', 'La Santamaría', 'd', 'e', 'f']"
      ]
     },
     "execution_count": 59,
     "metadata": {},
     "output_type": "execute_result"
    }
   ],
   "source": [
    "letras"
   ]
  },
  {
   "cell_type": "code",
   "execution_count": 60,
   "id": "edbec0d7-9df7-43a1-81cb-8a788da21c3d",
   "metadata": {},
   "outputs": [
    {
     "data": {
      "text/plain": [
       "6"
      ]
     },
     "execution_count": 60,
     "metadata": {},
     "output_type": "execute_result"
    }
   ],
   "source": [
    "len(letras)  # Longitud de una lista"
   ]
  },
  {
   "cell_type": "code",
   "execution_count": 61,
   "id": "5a64315d-0831-4e99-9d0a-e288feaa49d8",
   "metadata": {},
   "outputs": [],
   "source": [
    "letras[:3] = []"
   ]
  },
  {
   "cell_type": "code",
   "execution_count": 62,
   "id": "ac4371a5-e380-47be-bffa-b5778ee934c9",
   "metadata": {},
   "outputs": [
    {
     "data": {
      "text/plain": [
       "['d', 'e', 'f']"
      ]
     },
     "execution_count": 62,
     "metadata": {},
     "output_type": "execute_result"
    }
   ],
   "source": [
    "letras"
   ]
  },
  {
   "cell_type": "code",
   "execution_count": 63,
   "id": "ed29c347-35b9-46b4-83fd-76378444160d",
   "metadata": {},
   "outputs": [
    {
     "data": {
      "text/plain": [
       "3"
      ]
     },
     "execution_count": 63,
     "metadata": {},
     "output_type": "execute_result"
    }
   ],
   "source": [
    "len(letras)"
   ]
  },
  {
   "cell_type": "code",
   "execution_count": 64,
   "id": "a9c3307e-2078-4336-a4bc-597eb0ab1558",
   "metadata": {},
   "outputs": [
    {
     "data": {
      "text/plain": [
       "['d', 'e', 'f']"
      ]
     },
     "execution_count": 64,
     "metadata": {},
     "output_type": "execute_result"
    }
   ],
   "source": [
    "letras"
   ]
  },
  {
   "cell_type": "code",
   "execution_count": 65,
   "id": "b5d30e5a-9a61-419a-abd3-c3ae84492ef8",
   "metadata": {},
   "outputs": [],
   "source": [
    "letras[:3] = []"
   ]
  },
  {
   "cell_type": "code",
   "execution_count": 66,
   "id": "3b1a3ef1-40e9-426f-a6a9-7cfca4f9ef40",
   "metadata": {},
   "outputs": [
    {
     "data": {
      "text/plain": [
       "[]"
      ]
     },
     "execution_count": 66,
     "metadata": {},
     "output_type": "execute_result"
    }
   ],
   "source": [
    "letras"
   ]
  },
  {
   "cell_type": "markdown",
   "id": "dd4956de-fff2-46d0-99b0-c2560aff0c6f",
   "metadata": {},
   "source": [
    "### Listas anidadas\n",
    "#### Alteración de la información"
   ]
  },
  {
   "cell_type": "code",
   "execution_count": 67,
   "id": "32ff80df-c112-4738-a14a-38df9fb85d80",
   "metadata": {},
   "outputs": [],
   "source": [
    "a = [1, 2, 3]\n",
    "b = [4, 5, 6]\n",
    "c = [7, 8, 9]\n",
    "r = [a, b, c]   #Anidamos las listas"
   ]
  },
  {
   "cell_type": "code",
   "execution_count": 68,
   "id": "92af7c23-e676-4a5c-85ca-7b734bf27eb6",
   "metadata": {},
   "outputs": [
    {
     "data": {
      "text/plain": [
       "[[1, 2, 3], [4, 5, 6], [7, 8, 9]]"
      ]
     },
     "execution_count": 68,
     "metadata": {},
     "output_type": "execute_result"
    }
   ],
   "source": [
    "r"
   ]
  },
  {
   "cell_type": "code",
   "execution_count": 69,
   "id": "48fb8bef-25c7-4761-b667-be5d0fb2d866",
   "metadata": {},
   "outputs": [
    {
     "data": {
      "text/plain": [
       "[1, 2, 3]"
      ]
     },
     "execution_count": 69,
     "metadata": {},
     "output_type": "execute_result"
    }
   ],
   "source": [
    "r[0]  #Primera sub-lista"
   ]
  },
  {
   "cell_type": "code",
   "execution_count": 70,
   "id": "9bb4f183-4e74-4916-ac77-1c7728406640",
   "metadata": {},
   "outputs": [
    {
     "data": {
      "text/plain": [
       "[7, 8, 9]"
      ]
     },
     "execution_count": 70,
     "metadata": {},
     "output_type": "execute_result"
    }
   ],
   "source": [
    "r[-1]   #Última sub-lista"
   ]
  },
  {
   "cell_type": "code",
   "execution_count": 71,
   "id": "243ed50d-5b0d-47d3-a11c-cb4ea2794494",
   "metadata": {},
   "outputs": [
    {
     "data": {
      "text/plain": [
       "1"
      ]
     },
     "execution_count": 71,
     "metadata": {},
     "output_type": "execute_result"
    }
   ],
   "source": [
    "r[0][0]   #Primer elemento de la primera sub-lista"
   ]
  },
  {
   "cell_type": "code",
   "execution_count": 72,
   "id": "ac6029ef-8e70-4225-9e8c-56127f1b654f",
   "metadata": {},
   "outputs": [
    {
     "data": {
      "text/plain": [
       "9"
      ]
     },
     "execution_count": 72,
     "metadata": {},
     "output_type": "execute_result"
    }
   ],
   "source": [
    "r[-1][-1]"
   ]
  },
  {
   "cell_type": "markdown",
   "id": "ef04477b-17e8-46c0-834e-be002ffbe1c8",
   "metadata": {},
   "source": [
    "## Lectura de datos por teclado\n",
    "### Para ello usaremos la instrucción input()"
   ]
  },
  {
   "cell_type": "code",
   "execution_count": 2,
   "id": "8188cd18-e338-4608-b9e1-28ec3af4d720",
   "metadata": {},
   "outputs": [
    {
     "name": "stdin",
     "output_type": "stream",
     "text": [
      " kjhjhñjhñjh\n"
     ]
    }
   ],
   "source": [
    "valor = input()"
   ]
  },
  {
   "cell_type": "code",
   "execution_count": 3,
   "id": "ea01165d-63d5-4d9b-bf82-de6f9dd752bf",
   "metadata": {},
   "outputs": [
    {
     "data": {
      "text/plain": [
       "str"
      ]
     },
     "execution_count": 3,
     "metadata": {},
     "output_type": "execute_result"
    }
   ],
   "source": [
    "type(valor)"
   ]
  },
  {
   "cell_type": "code",
   "execution_count": 4,
   "id": "599a1505-3107-41e5-a808-e0984f895a9b",
   "metadata": {},
   "outputs": [
    {
     "data": {
      "text/plain": [
       "'kjhjhñjhñjh'"
      ]
     },
     "execution_count": 4,
     "metadata": {},
     "output_type": "execute_result"
    }
   ],
   "source": [
    "valor"
   ]
  },
  {
   "cell_type": "code",
   "execution_count": 5,
   "id": "760e8f9c-57ad-450b-81f0-8fbf3b527ff1",
   "metadata": {},
   "outputs": [
    {
     "name": "stdin",
     "output_type": "stream",
     "text": [
      " 9\n"
     ]
    }
   ],
   "source": [
    "# Aunque ingresemos un número, realmente se lee como texto\n",
    "valor = input()"
   ]
  },
  {
   "cell_type": "code",
   "execution_count": 6,
   "id": "8f40c9e6-a618-4a32-a90a-ef439e134cfe",
   "metadata": {},
   "outputs": [
    {
     "data": {
      "text/plain": [
       "str"
      ]
     },
     "execution_count": 6,
     "metadata": {},
     "output_type": "execute_result"
    }
   ],
   "source": [
    "type(valor)"
   ]
  },
  {
   "cell_type": "code",
   "execution_count": null,
   "id": "0a88f453-4971-46b4-86d9-ac4c416e0e99",
   "metadata": {},
   "outputs": [],
   "source": [
    "valor"
   ]
  },
  {
   "cell_type": "code",
   "execution_count": 7,
   "id": "ff9fd487-2e7a-4a2d-9198-aaf078af5010",
   "metadata": {},
   "outputs": [
    {
     "name": "stdin",
     "output_type": "stream",
     "text": [
      "Introduce un valor:  9\n"
     ]
    }
   ],
   "source": [
    "# Podemos incluir un comentario previo (indicaciones)\n",
    "valor = input(\"Introduce un valor: \")"
   ]
  },
  {
   "cell_type": "code",
   "execution_count": 8,
   "id": "5a424719-0cdc-4708-8f2a-cb9f78e15d3d",
   "metadata": {},
   "outputs": [
    {
     "data": {
      "text/plain": [
       "'9'"
      ]
     },
     "execution_count": 8,
     "metadata": {},
     "output_type": "execute_result"
    }
   ],
   "source": [
    "valor"
   ]
  },
  {
   "cell_type": "code",
   "execution_count": 9,
   "id": "f37bf3fc-588b-46ce-9fef-7fa544bb97b3",
   "metadata": {},
   "outputs": [
    {
     "ename": "TypeError",
     "evalue": "can only concatenate str (not \"int\") to str",
     "output_type": "error",
     "traceback": [
      "\u001b[1;31m---------------------------------------------------------------------------\u001b[0m",
      "\u001b[1;31mTypeError\u001b[0m                                 Traceback (most recent call last)",
      "Cell \u001b[1;32mIn[9], line 2\u001b[0m\n\u001b[0;32m      1\u001b[0m \u001b[38;5;66;03m# Una cadena de texto y un valor númerico no se pueden sumar\u001b[39;00m\n\u001b[1;32m----> 2\u001b[0m valor \u001b[38;5;241m+\u001b[39m \u001b[38;5;241m100\u001b[39m\n",
      "\u001b[1;31mTypeError\u001b[0m: can only concatenate str (not \"int\") to str"
     ]
    }
   ],
   "source": [
    "# Una cadena de texto y un valor númerico no se pueden sumar\n",
    "valor + 100"
   ]
  },
  {
   "cell_type": "code",
   "execution_count": null,
   "id": "4480bbf7-8be1-487f-9995-46cbeb39ce6c",
   "metadata": {},
   "outputs": [],
   "source": [
    "valor = int(input(\"Introduce un valor: \"))\n",
    "# Este comando recogerá la entrada como número entero"
   ]
  },
  {
   "cell_type": "code",
   "execution_count": null,
   "id": "c3041574-11de-4e62-a90c-720cb7125db5",
   "metadata": {},
   "outputs": [],
   "source": [
    "valor + 100"
   ]
  },
  {
   "cell_type": "markdown",
   "id": "fe4a1520-9896-4fd4-ab4c-7c05c57116ad",
   "metadata": {},
   "source": [
    "## Cast con int(), para cadenas de texto"
   ]
  },
  {
   "cell_type": "code",
   "execution_count": 10,
   "id": "3ac2223b-0a5a-40df-a3c4-264aa0459971",
   "metadata": {},
   "outputs": [
    {
     "name": "stdin",
     "output_type": "stream",
     "text": [
      "Introduce un número entero:  9\n"
     ]
    }
   ],
   "source": [
    "valor = input(\"Introduce un número entero: \")"
   ]
  },
  {
   "cell_type": "code",
   "execution_count": 11,
   "id": "3438b3ed-355d-4d46-b129-8c75f4319586",
   "metadata": {},
   "outputs": [
    {
     "ename": "TypeError",
     "evalue": "can only concatenate str (not \"int\") to str",
     "output_type": "error",
     "traceback": [
      "\u001b[1;31m---------------------------------------------------------------------------\u001b[0m",
      "\u001b[1;31mTypeError\u001b[0m                                 Traceback (most recent call last)",
      "Cell \u001b[1;32mIn[11], line 1\u001b[0m\n\u001b[1;32m----> 1\u001b[0m valor \u001b[38;5;241m+\u001b[39m \u001b[38;5;241m100\u001b[39m\n",
      "\u001b[1;31mTypeError\u001b[0m: can only concatenate str (not \"int\") to str"
     ]
    }
   ],
   "source": [
    "valor + 100"
   ]
  },
  {
   "cell_type": "code",
   "execution_count": 12,
   "id": "c7b154fa-3ba3-48f5-a64e-4f3f8d166d60",
   "metadata": {},
   "outputs": [],
   "source": [
    "valor = int(valor)  #Casteamos el valor"
   ]
  },
  {
   "cell_type": "code",
   "execution_count": 13,
   "id": "5f3238b9-e65d-4e4f-8958-0c32fdd94e21",
   "metadata": {},
   "outputs": [
    {
     "data": {
      "text/plain": [
       "109"
      ]
     },
     "execution_count": 13,
     "metadata": {},
     "output_type": "execute_result"
    }
   ],
   "source": [
    "valor + 100"
   ]
  },
  {
   "cell_type": "code",
   "execution_count": null,
   "id": "782b0ba4-388c-41b7-98a2-3e0a56fd8861",
   "metadata": {},
   "outputs": [],
   "source": [
    "valor2 = input(\"Introduce un número decimal: \")"
   ]
  },
  {
   "cell_type": "code",
   "execution_count": null,
   "id": "84654a9d-d97a-4c0f-9ed2-d75904daf80b",
   "metadata": {},
   "outputs": [],
   "source": [
    "# Actividad ---> sumar valor + valor2\n",
    "valor2 = float(valor2)"
   ]
  },
  {
   "cell_type": "code",
   "execution_count": null,
   "id": "2a821085-973f-4f72-a871-2c8e72d0cc80",
   "metadata": {},
   "outputs": [],
   "source": [
    "valor + valor2"
   ]
  },
  {
   "cell_type": "code",
   "execution_count": null,
   "id": "cf0a36e6-b30e-4c89-8632-d41b724b4c2d",
   "metadata": {},
   "outputs": [],
   "source": [
    "valor2 = float(input(\"Introduce un número decimal: \"))"
   ]
  },
  {
   "cell_type": "code",
   "execution_count": null,
   "id": "d5f7ca82-dacc-40f5-b078-4c263c98fa19",
   "metadata": {},
   "outputs": [],
   "source": [
    "valor + valor2"
   ]
  },
  {
   "cell_type": "code",
   "execution_count": null,
   "id": "c209a355-e482-40db-a710-add6563ce159",
   "metadata": {},
   "outputs": [],
   "source": [
    "# Actividad en clase: Introduce por teclado\n",
    "# tres notas decimales (de 0 a 10) y saca la nota final\n",
    "# teniendo en cuenta el 15%, 35% y 50% de las tres notas"
   ]
  },
  {
   "cell_type": "code",
   "execution_count": null,
   "id": "c2377f57-40fb-4a94-9fc1-4caebc864f87",
   "metadata": {},
   "outputs": [],
   "source": [
    "nota_1 = float(input(\"Introduce la primera nota: \"))"
   ]
  },
  {
   "cell_type": "code",
   "execution_count": null,
   "id": "644f081b-069f-4d56-aa0a-0611741351cf",
   "metadata": {},
   "outputs": [],
   "source": [
    "# nota_final = nota_1 * 0.15 + nota_2 * 0.35 + nota_3 * 0.5"
   ]
  }
 ],
 "metadata": {
  "kernelspec": {
   "display_name": "Python 3 (ipykernel)",
   "language": "python",
   "name": "python3"
  },
  "language_info": {
   "codemirror_mode": {
    "name": "ipython",
    "version": 3
   },
   "file_extension": ".py",
   "mimetype": "text/x-python",
   "name": "python",
   "nbconvert_exporter": "python",
   "pygments_lexer": "ipython3",
   "version": "3.12.4"
  }
 },
 "nbformat": 4,
 "nbformat_minor": 5
}
